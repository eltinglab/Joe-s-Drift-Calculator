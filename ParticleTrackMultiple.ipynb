{
 "metadata": {
  "language_info": {
   "codemirror_mode": {
    "name": "ipython",
    "version": 3
   },
   "file_extension": ".py",
   "mimetype": "text/x-python",
   "name": "python",
   "nbconvert_exporter": "python",
   "pygments_lexer": "ipython3",
   "version": "3.8.3-final"
  },
  "orig_nbformat": 2,
  "kernelspec": {
   "name": "Python 3.8.3 64-bit ('base': conda)",
   "display_name": "Python 3.8.3 64-bit ('base': conda)",
   "metadata": {
    "interpreter": {
     "hash": "9b7313ee19a3d44981b9554bea2de50b6f564d68137341169a318f367bb11b3d"
    }
   }
  }
 },
 "nbformat": 4,
 "nbformat_minor": 2,
 "cells": [
  {
   "source": [
    "Instructions: <br/>\n",
    "    1. figure out your parameters in the single version, parameters go in the variables minmass, maxsize and noise size <br/>\n",
    "    2. place files in the same folder and the script will find them. <br/>\n",
    "    3. the second block does all the tracking and it takes a while <br/>\n",
    "    4. third graphs so you dont have to wait to track again if you want to change the plot parameters. <br/>\n",
    "\n",
    "Images are save in Plots folder in the same directory"
   ],
   "cell_type": "markdown",
   "metadata": {}
  },
  {
   "cell_type": "code",
   "execution_count": null,
   "metadata": {
    "tags": []
   },
   "outputs": [],
   "source": [
    "\n",
    "%pylab inline\n",
    "import matplotlib as mpl\n",
    "import matplotlib.pyplot as plt\n",
    "import numpy as np\n",
    "import pandas as pdz\n",
    "from pandas import DataFrame, Series  # for convenience\n",
    "import IPython\n",
    "import pims\n",
    "import trackpy as tp\n",
    "import av\n",
    "import os\n",
    "from os import listdir\n",
    "from os.path import isfile, join, abspath, basename\n",
    "\n",
    "mpl.rc('figure',  figsize=(10, 5))\n",
    "mpl.rc('image', cmap='gray')\n",
    "\n",
    "##############Crop and greyscale pipelines#######################\n",
    "@pims.pipeline\n",
    "def gray(image):\n",
    "    return image[:, :, 2]  # Take just the green channel\n",
    "\n",
    "@pims.pipeline\n",
    "def crop(image,xmin,xmax,ymin,ymax):\n",
    "    return image[xmin:xmax,ymin:ymax]\n",
    "##################################################################\n",
    "\n",
    "#tuning variables, pick these with single particle tracking notebook#\n",
    "minmass = 80 #scales with the size\n",
    "maxsize = 18\n",
    "noise_size = 3\n",
    "aproxsize = 7 #must be odd\n",
    "mpp = 100 #microns per pixel\n",
    "######################################################################"
   ]
  },
  {
   "cell_type": "code",
   "execution_count": null,
   "metadata": {},
   "outputs": [],
   "source": [
    "##opening files in the same folder that end with matching file extension##\n",
    "fileextension = \".tif\"\n",
    "\n",
    "try:\n",
    "    path = sys.path[0]\n",
    "    allfiles = [f for f in listdir(path) if isfile(join(path, f))]\n",
    "    files = [ fi for fi in allfiles if fi.endswith(fileextension) ]\n",
    "    print(\"files opened succesfully\")\n",
    "    print(\"files: \",files)\n",
    "except:\n",
    "    print(\"oh no error opening files\")\n",
    "###########################################################################"
   ]
  },
  {
   "cell_type": "code",
   "execution_count": null,
   "metadata": {},
   "outputs": [],
   "source": [
    "## runs tracking for all files ##\n",
    "t1 =[] #tracks storage\n",
    "filenames = []\n",
    "\n",
    "for fl in files:\n",
    "    print(abspath(fl))\n",
    "    filenames.append(basename(abspath(fl)))\n",
    "    vid = pims.open(basename(abspath(fl))) #pims changes the working directory when doing this\n",
    "    f = tp.batch(vid, aproxsize, invert=True, minmass=minmass, maxsize=maxsize, noise_size=noise_size)\n",
    "    t = tp.link(f, 15, memory=2) #link them together\n",
    "    t1.append(tp.filter_stubs(t, 5)) #gets rid of small trajectories"
   ]
  },
  {
   "cell_type": "code",
   "execution_count": null,
   "metadata": {},
   "outputs": [],
   "source": [
    "#makes plots\n",
    "os.chdir(path)\n",
    "plotspath = os.path.join(path,\"Plots\")\n",
    "if os.path.exists(plotspath):\n",
    "    os.chdir(plotspath)\n",
    "else:\n",
    "    os.mkdir(plotspath)\n",
    "    os.chdir(plotspath)\n",
    "for i, tra in enumerate(t1):\n",
    "    plt.figure()\n",
    "    plt.xlabel(\"Frame Number\")\n",
    "    plt.ylabel(\"velocity (px/frame)\")\n",
    "    plt.title(\"Drift Velocities \"+ filenames[i])\n",
    "    tp.plot_traj(tra); #plotting pretty lines\n",
    "#    plt.savefig(\"Lines \"+ filenames[i]+\".png\", format='png') #this doesnt work bc trackpy is being weird\n",
    "#    plt.show()\n",
    "\n",
    "\n",
    "    d = tp.compute_drift(tra, smoothing = 5) #find drift\n",
    "    d.plot()\n",
    "    plt.xlabel(\"Frame Number\")\n",
    "    plt.ylabel(\"velocity (px/frame)\")\n",
    "    plt.title(\"Drift Velocities \"+ filenames[i])\n",
    "    plt.savefig(\"Drift Velocities \"+ filenames[i]+\".png\", format='png')\n",
    "    plt.show()\n",
    "\n",
    "    im = tp.imsd(tra, mpp, 24)\n",
    "    fig, ax = plt.subplots()\n",
    "    ax.plot(im.index, im, 'k-', alpha=0.1)  # black lines, semitransparent\n",
    "    ax.set(ylabel=r'$\\langle \\Delta r^2 \\rangle$ [$\\mu$m$^2$]',\n",
    "       xlabel='lag time $t$')\n",
    "    ax.set_xscale('log')\n",
    "    ax.set_yscale('log')\n",
    "\n",
    "os.chdir(\"..\")"
   ]
  }
 ]
}